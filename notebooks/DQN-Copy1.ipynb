{
 "cells": [
  {
   "cell_type": "code",
   "execution_count": null,
   "metadata": {},
   "outputs": [
    {
     "name": "stderr",
     "output_type": "stream",
     "text": [
      "/home/andres/thesis_project/keras2/lib/python3.6/site-packages/skimage/transform/_warps.py:24: UserWarning: The default multichannel argument (None) is deprecated.  Please specify either True or False explicitly.  multichannel will default to False starting with release 0.16.\n",
      "  warn('The default multichannel argument (None) is deprecated.  Please '\n",
      "/home/andres/thesis_project/keras2/lib/python3.6/site-packages/skimage/transform/_warps.py:105: UserWarning: The default mode, 'constant', will be changed to 'reflect' in skimage 0.15.\n",
      "  warn(\"The default mode, 'constant', will be changed to 'reflect' in \"\n"
     ]
    },
    {
     "name": "stdout",
     "output_type": "stream",
     "text": [
      "episode: 0/1000, score: 862, reward: 215.0, e: 0.93 \n",
      "episode: 1/1000, score: 726, reward: 100.0, e: 0.86 \n",
      "episode: 2/1000, score: 607, reward: 100.0, e: 0.81 \n",
      "episode: 3/1000, score: 663, reward: 170.0, e: 0.76 \n",
      "episode: 4/1000, score: 691, reward: 315.0, e: 0.71 \n",
      "episode: 5/1000, score: 630, reward: 125.0, e: 0.67 \n",
      "episode: 6/1000, score: 718, reward: 160.0, e: 0.62 \n",
      "episode: 7/1000, score: 528, reward: 55.0, e: 0.59 \n",
      "episode: 8/1000, score: 1684, reward: 510.0, e: 0.5 \n",
      "episode: 9/1000, score: 800, reward: 110.0, e: 0.46 \n",
      "episode: 10/1000, score: 676, reward: 95.0, e: 0.43 \n",
      "episode: 11/1000, score: 815, reward: 145.0, e: 0.4 \n",
      "episode: 12/1000, score: 656, reward: 95.0, e: 0.37 \n",
      "episode: 13/1000, score: 646, reward: 95.0, e: 0.35 \n",
      "episode: 14/1000, score: 394, reward: 30.0, e: 0.33 \n",
      "episode: 15/1000, score: 782, reward: 145.0, e: 0.31 \n",
      "episode: 16/1000, score: 532, reward: 65.0, e: 0.29 \n",
      "episode: 17/1000, score: 1225, reward: 205.0, e: 0.26 \n",
      "episode: 18/1000, score: 645, reward: 95.0, e: 0.24 \n"
     ]
    }
   ],
   "source": [
    "import random\n",
    "import gym\n",
    "import numpy as np\n",
    "from collections import deque\n",
    "from keras.models import Sequential\n",
    "from keras.layers import Dense\n",
    "from keras.optimizers import Adam\n",
    "\n",
    "EPISODES = 1000\n",
    "\n",
    "class DQNAgent:\n",
    "    def __init__(self, state_size, action_size):\n",
    "        self.state_size = state_size\n",
    "        self.action_size = action_size\n",
    "        self.memory = deque(maxlen=100000)\n",
    "        self.gamma = 0.95    # discount rate\n",
    "        self.epsilon = 1.0 # exploration rate\n",
    "        self.epsilon2 = 0.0\n",
    "        self.epsilon_min = 0.1\n",
    "        self.epsilon_decay = 0.9999\n",
    "        self.learning_rate = 0.05\n",
    "        self.model = self._build_model()\n",
    "\n",
    "    def _build_model(self):\n",
    "        # Neural Net for Deep-Q learning Model\n",
    "        model = Sequential()\n",
    "        model.add(Dense(85, input_dim=self.state_size, activation='relu'))\n",
    "        model.add(Dense(45, activation='relu'))\n",
    "        model.add(Dense(25, activation='relu'))\n",
    "        model.add(Dense(10, activation='relu'))\n",
    "        model.add(Dense(self.action_size, activation='linear'))\n",
    "        model.compile(loss='mse',\n",
    "                      optimizer=Adam(lr=self.learning_rate))\n",
    "        return model\n",
    "\n",
    "    def remember(self, state, action, reward, next_state, done):\n",
    "        self.memory.append((state, action, reward, next_state, done))\n",
    "\n",
    "    def act(self, state):\n",
    "        if np.random.rand() <= self.epsilon:\n",
    "            if np.random.rand() <= self.epsilon2:\n",
    "                return get_action(state)\n",
    "            else:\n",
    "                return random.randrange(self.action_size) \n",
    "        #print( state.shape)\n",
    "        act_values = self.model.predict(np.expand_dims(state, axis=0))\n",
    "        return np.argmax(act_values[0])  # returns action\n",
    "\n",
    "    def replay(self, batch_size):\n",
    "        minibatch = random.sample(self.memory, batch_size)\n",
    "        for state, action, reward, next_state, done in minibatch:\n",
    "            target = reward\n",
    "            if not done:\n",
    "                target = (reward + self.gamma *\n",
    "                          np.amax(self.model.predict(np.expand_dims(next_state, axis=0))[0]))\n",
    "            target_f = self.model.predict(np.expand_dims(state, axis=0))\n",
    "            target_f[0][action] = target\n",
    "            self.model.fit(np.expand_dims(state, axis=0), target_f, epochs=1, verbose=0)\n",
    "        if self.epsilon > self.epsilon_min:\n",
    "            self.epsilon *= self.epsilon_decay\n",
    "\n",
    "    def load(self, name):\n",
    "        self.model.load_weights(name)\n",
    "\n",
    "    def save(self, name):\n",
    "        self.model.save_weights(name)\n",
    "\n",
    "\n",
    "env = gym.make('SpaceInvaders-v4')\n",
    "state_size = 3021\n",
    "action_size = env.action_space.n\n",
    "agent = DQNAgent(state_size, action_size)\n",
    "# agent.load(\"./save/cartpole-dqn.h5\")\n",
    "done = False\n",
    "batch_size = 128\n",
    "\n",
    "for e in range(EPISODES):\n",
    "    state = env.reset()\n",
    "    actual_reward = 0\n",
    "    state = load_transform(state)\n",
    "    for time in range(3000):\n",
    "        #env.render()\n",
    "        action = agent.act(state)\n",
    "        next_state, reward, done, _ = env.step(action)\n",
    "        actual_reward += reward if not done else -10\n",
    "        next_state = load_transform(next_state)\n",
    "        agent.remember(state, action, actual_reward, next_state, done)\n",
    "        state = next_state\n",
    "        if done:\n",
    "            break\n",
    "        if len(agent.memory) > batch_size:\n",
    "            agent.replay(batch_size)\n",
    "    print(\"episode: {}/{}, score: {}, reward: {}, e: {:.2} \\r\"\n",
    "          .format(e, EPISODES, time, actual_reward, agent.epsilon))\n"
   ]
  },
  {
   "cell_type": "code",
   "execution_count": 4,
   "metadata": {
    "collapsed": true
   },
   "outputs": [],
   "source": [
    "import gym"
   ]
  },
  {
   "cell_type": "code",
   "execution_count": 5,
   "metadata": {
    "collapsed": true
   },
   "outputs": [],
   "source": [
    "env = gym.make('Cart-v4')"
   ]
  },
  {
   "cell_type": "code",
   "execution_count": 1,
   "metadata": {
    "collapsed": true
   },
   "outputs": [],
   "source": [
    "import gym\n",
    "env = gym.make('SpaceInvaders-v4')"
   ]
  },
  {
   "cell_type": "code",
   "execution_count": 12,
   "metadata": {},
   "outputs": [
    {
     "data": {
      "text/plain": [
       "['NOOP', 'FIRE', 'RIGHT', 'LEFT', 'RIGHTFIRE', 'LEFTFIRE']"
      ]
     },
     "execution_count": 12,
     "metadata": {},
     "output_type": "execute_result"
    }
   ],
   "source": [
    "env.unwrapped.get_action_meanings()"
   ]
  },
  {
   "cell_type": "code",
   "execution_count": 3,
   "metadata": {},
   "outputs": [
    {
     "name": "stderr",
     "output_type": "stream",
     "text": [
      "Using TensorFlow backend.\n",
      "/home/andres/thesis_project/keras2/lib/python3.6/site-packages/keras/engine/saving.py:269: UserWarning: No training configuration found in save file: the model was *not* compiled. Compile it manually.\n",
      "  warnings.warn('No training configuration found in save file: '\n"
     ]
    }
   ],
   "source": [
    "from keras.models import load_model\n",
    "model = load_model('/media/andres/Baymax/predictor.h5')\n",
    "encoder = load_model('/media/andres/Baymax/encoder100.h5')"
   ]
  },
  {
   "cell_type": "code",
   "execution_count": 5,
   "metadata": {},
   "outputs": [
    {
     "ename": "NameError",
     "evalue": "name 'DQNAgent' is not defined",
     "output_type": "error",
     "traceback": [
      "\u001b[0;31m---------------------------------------------------------------------------\u001b[0m",
      "\u001b[0;31mNameError\u001b[0m                                 Traceback (most recent call last)",
      "\u001b[0;32m<ipython-input-5-fe374c089d5e>\u001b[0m in \u001b[0;36m<module>\u001b[0;34m()\u001b[0m\n\u001b[1;32m      2\u001b[0m \u001b[0mstate_size\u001b[0m \u001b[0;34m=\u001b[0m \u001b[0menv\u001b[0m\u001b[0;34m.\u001b[0m\u001b[0mobservation_space\u001b[0m\u001b[0;34m.\u001b[0m\u001b[0mshape\u001b[0m\u001b[0;34m[\u001b[0m\u001b[0;36m0\u001b[0m\u001b[0;34m]\u001b[0m \u001b[0;31m#377\u001b[0m\u001b[0;34m\u001b[0m\u001b[0m\n\u001b[1;32m      3\u001b[0m \u001b[0maction_size\u001b[0m \u001b[0;34m=\u001b[0m \u001b[0menv\u001b[0m\u001b[0;34m.\u001b[0m\u001b[0maction_space\u001b[0m\u001b[0;34m.\u001b[0m\u001b[0mn\u001b[0m\u001b[0;34m\u001b[0m\u001b[0m\n\u001b[0;32m----> 4\u001b[0;31m \u001b[0magent\u001b[0m \u001b[0;34m=\u001b[0m \u001b[0mDQNAgent\u001b[0m\u001b[0;34m(\u001b[0m\u001b[0mstate_size\u001b[0m\u001b[0;34m,\u001b[0m \u001b[0maction_size\u001b[0m\u001b[0;34m)\u001b[0m\u001b[0;34m\u001b[0m\u001b[0m\n\u001b[0m",
      "\u001b[0;31mNameError\u001b[0m: name 'DQNAgent' is not defined"
     ]
    }
   ],
   "source": [
    "env = gym.make('SpaceInvaders-v4')\n",
    "state_size = env.observation_space.shape[0] #377\n",
    "action_size = env.action_space.n\n",
    "agent = DQNAgent(state_size, action_size)"
   ]
  },
  {
   "cell_type": "code",
   "execution_count": 13,
   "metadata": {
    "collapsed": true
   },
   "outputs": [],
   "source": [
    "state = env.reset()"
   ]
  },
  {
   "cell_type": "code",
   "execution_count": 1,
   "metadata": {
    "collapsed": true
   },
   "outputs": [],
   "source": [
    "import matplotlib.pyplot as plt\n",
    "\n",
    "from skimage import io, color\n",
    "from skimage.transform import rescale\n",
    "from skimage.draw import rectangle\n",
    "from skimage.measure import label, regionprops\n",
    "from skimage.filters import threshold_otsu\n",
    "from skimage.morphology import closing, square\n",
    "import h5py\n",
    "\n",
    "def load_transform(img):\n",
    "    img = img[25:195,0:160]\n",
    "    img_gray = color.rgb2gray(img)\n",
    "    \n",
    "    thresh = threshold_otsu(img_gray)\n",
    "    bw = closing(img_gray > thresh, square(3))\n",
    "    cleared = bw\n",
    "    label_image = label(cleared)\n",
    "    for region in regionprops(label_image):\n",
    "        if region.area >= 10:\n",
    "            minr, minc, maxr, maxc = region.bbox\n",
    "            rr, cc = rectangle(start=(minr, minc), end=(maxr, maxc), shape=cleared.shape)\n",
    "            cleared[rr, cc] = 1\n",
    "\n",
    "    image_rescaled = rescale(cleared, 1.0 / 3.0, anti_aliasing=False)\n",
    "    \n",
    "    return image_rescaled.reshape(3021)"
   ]
  },
  {
   "cell_type": "code",
   "execution_count": 33,
   "metadata": {},
   "outputs": [
    {
     "name": "stderr",
     "output_type": "stream",
     "text": [
      "/home/andres/thesis/keras/lib/python3.6/site-packages/skimage/transform/_warps.py:24: UserWarning: The default multichannel argument (None) is deprecated.  Please specify either True or False explicitly.  multichannel will default to False starting with release 0.16.\n",
      "  warn('The default multichannel argument (None) is deprecated.  Please '\n",
      "/home/andres/thesis/keras/lib/python3.6/site-packages/skimage/transform/_warps.py:105: UserWarning: The default mode, 'constant', will be changed to 'reflect' in skimage 0.15.\n",
      "  warn(\"The default mode, 'constant', will be changed to 'reflect' in \"\n"
     ]
    }
   ],
   "source": [
    "import numpy as np\n",
    "\n",
    "state_transformed = load_transform(state)\n",
    "encoded = encoder.predict(np.expand_dims(state_transformed, axis=0))\n",
    "prediction = model.predict(encoded)"
   ]
  },
  {
   "cell_type": "code",
   "execution_count": 36,
   "metadata": {},
   "outputs": [
    {
     "data": {
      "text/plain": [
       "1"
      ]
     },
     "execution_count": 36,
     "metadata": {},
     "output_type": "execute_result"
    }
   ],
   "source": [
    "prediction.argmax()"
   ]
  },
  {
   "cell_type": "code",
   "execution_count": 28,
   "metadata": {},
   "outputs": [
    {
     "data": {
      "text/plain": [
       "(3021,)"
      ]
     },
     "execution_count": 28,
     "metadata": {},
     "output_type": "execute_result"
    }
   ],
   "source": [
    "state_transformed.shape"
   ]
  },
  {
   "cell_type": "code",
   "execution_count": 1,
   "metadata": {},
   "outputs": [
    {
     "name": "stderr",
     "output_type": "stream",
     "text": [
      "Using TensorFlow backend.\n",
      "/home/andres/thesis_project/keras2/lib/python3.6/site-packages/keras/engine/saving.py:269: UserWarning: No training configuration found in save file: the model was *not* compiled. Compile it manually.\n",
      "  warnings.warn('No training configuration found in save file: '\n"
     ]
    }
   ],
   "source": [
    "actions = ['NOOP', 'FIRE', 'UP', 'RIGHT', 'LEFT', 'DOWN', 'UPRIGHT', 'UPLEFT', 'DOWNRIGHT', 'DOWNLEFT', 'UPFIRE', 'RIGHTFIRE', 'LEFTFIRE', 'DOWNFIRE', 'UPRIGHTFIRE', 'UPLEFTFIRE', 'DOWNRIGHTFIRE', 'DOWNLEFTFIRE']\n",
    "env_actions  = ['NOOP', 'FIRE', 'RIGHT', 'LEFT', 'RIGHTFIRE', 'LEFTFIRE']\n",
    "\n",
    "import matplotlib.pyplot as plt\n",
    "\n",
    "from skimage import io, color\n",
    "from skimage.transform import rescale\n",
    "from skimage.draw import rectangle\n",
    "from skimage.measure import label, regionprops\n",
    "from skimage.filters import threshold_otsu\n",
    "from skimage.morphology import closing, square\n",
    "from keras.models import load_model\n",
    "import h5py\n",
    "\n",
    "model = load_model('/media/andres/Baymax/predictor.h5')\n",
    "encoder = load_model('/media/andres/Baymax/encoder100.h5')\n",
    "\n",
    "def load_transform(img):\n",
    "    img = img[25:195,0:160]\n",
    "    img_gray = color.rgb2gray(img)\n",
    "    \n",
    "    thresh = threshold_otsu(img_gray)\n",
    "    bw = closing(img_gray > thresh, square(3))\n",
    "    cleared = bw\n",
    "    label_image = label(cleared)\n",
    "    for region in regionprops(label_image):\n",
    "        if region.area >= 10:\n",
    "            minr, minc, maxr, maxc = region.bbox\n",
    "            rr, cc = rectangle(start=(minr, minc), end=(maxr, maxc), shape=cleared.shape)\n",
    "            cleared[rr, cc] = 1\n",
    "\n",
    "    image_rescaled = rescale(cleared, 1.0 / 3.0, anti_aliasing=False)\n",
    "    \n",
    "    return image_rescaled.reshape(3021)\n",
    "\n",
    "def get_action(state):\n",
    "    encoded = encoder.predict(np.expand_dims(state, axis=0))\n",
    "    prediction = model.predict(encoded)[0]\n",
    "    prediction_index = prediction.argmax()\n",
    "    #print(prediction_index)\n",
    "    try: \n",
    "        return env_actions.index(actions[prediction_index])\n",
    "    except:\n",
    "        return 0\n",
    "    "
   ]
  },
  {
   "cell_type": "code",
   "execution_count": 3,
   "metadata": {},
   "outputs": [
    {
     "data": {
      "text/plain": [
       "1"
      ]
     },
     "execution_count": 3,
     "metadata": {},
     "output_type": "execute_result"
    }
   ],
   "source": [
    "env_actions.index('FIRE')"
   ]
  },
  {
   "cell_type": "code",
   "execution_count": null,
   "metadata": {
    "collapsed": true
   },
   "outputs": [],
   "source": []
  }
 ],
 "metadata": {
  "kernelspec": {
   "display_name": "keras-thesis",
   "language": "python",
   "name": "keras-thesis"
  },
  "language_info": {
   "codemirror_mode": {
    "name": "ipython",
    "version": 3
   },
   "file_extension": ".py",
   "mimetype": "text/x-python",
   "name": "python",
   "nbconvert_exporter": "python",
   "pygments_lexer": "ipython3",
   "version": "3.6.3"
  }
 },
 "nbformat": 4,
 "nbformat_minor": 2
}
