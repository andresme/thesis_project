{
 "cells": [
  {
   "cell_type": "code",
   "execution_count": 1,
   "metadata": {},
   "outputs": [],
   "source": [
    "from skimage import io, color\n",
    "import matplotlib.pyplot as plt\n",
    "from skimage.transform import rescale"
   ]
  },
  {
   "cell_type": "code",
   "execution_count": 2,
   "metadata": {},
   "outputs": [],
   "source": [
    "def load_transform(image_path):\n",
    "    img = io.imread(image_path)\n",
    "    img_gray = color.rgb2gray(img)\n",
    "    image_rescaled = rescale(img_gray, 1.0 / 3.0, anti_aliasing=False)\n",
    "    return image_rescaled\n",
    "\n"
   ]
  },
  {
   "cell_type": "code",
   "execution_count": 28,
   "metadata": {},
   "outputs": [
    {
     "name": "stderr",
     "output_type": "stream",
     "text": [
      "/home/andres/thesis/thesis/lib/python3.5/site-packages/skimage/transform/_warps.py:24: UserWarning: The default multichannel argument (None) is deprecated.  Please specify either True or False explicitly.  multichannel will default to False starting with release 0.16.\n",
      "  warn('The default multichannel argument (None) is deprecated.  Please '\n",
      "/home/andres/thesis/thesis/lib/python3.5/site-packages/skimage/transform/_warps.py:105: UserWarning: The default mode, 'constant', will be changed to 'reflect' in skimage 0.15.\n",
      "  warn(\"The default mode, 'constant', will be changed to 'reflect' in \"\n"
     ]
    },
    {
     "data": {
      "text/plain": [
       "<matplotlib.image.AxesImage at 0x7f4cf9ba9128>"
      ]
     },
     "execution_count": 28,
     "metadata": {},
     "output_type": "execute_result"
    },
    {
     "data": {
      "image/png": "[encoded data removed]",
      "text/plain": [
       "<Figure size 432x288 with 1 Axes>"
      ]
     },
     "metadata": {},
     "output_type": "display_data"
    }
   ],
   "source": [
    "plt.imshow(load_transform('/home/andres/thesis/samples/pinball/atari_v1/screens/pinball/1/500.png'))\n",
    "#plt.imshow(io.imread('/home/andres/thesis/samples/pinball/atari_v1/screens/pinball/1/500.png'))"
   ]
  },
  {
   "cell_type": "code",
   "execution_count": 3,
   "metadata": {},
   "outputs": [
    {
     "name": "stderr",
     "output_type": "stream",
     "text": [
      "Using TensorFlow backend.\n"
     ]
    }
   ],
   "source": [
    "from keras.layers import Input, Dense\n",
    "from keras.models import Model\n",
    "\n",
    "# this is the size of our encoded representations\n",
    "encoding_dim = 128  # 32 floats -> compression of factor 24.5, assuming the input is 784 floats\n",
    "\n",
    "# this is our input placeholder\n",
    "input_img = Input(shape=(3710,))\n",
    "# \"encoded\" is the encoded representation of the input\n",
    "encoded = Dense(encoding_dim, activation='relu')(input_img)\n",
    "# \"decoded\" is the lossy reconstruction of the input\n",
    "decoded = Dense(3710, activation='sigmoid')(encoded)\n",
    "\n",
    "# this model maps an input to its reconstruction\n",
    "autoencoder = Model(input_img, decoded)\n",
    "\n",
    "# this model maps an input to its encoded representation\n",
    "encoder = Model(input_img, encoded)"
   ]
  },
  {
   "cell_type": "code",
   "execution_count": 4,
   "metadata": {},
   "outputs": [],
   "source": [
    "# create a placeholder for an encoded (32-dimensional) input\n",
    "encoded_input = Input(shape=(encoding_dim,))\n",
    "# retrieve the last layer of the autoencoder model\n",
    "decoder_layer = autoencoder.layers[-1]\n",
    "# create the decoder model\n",
    "decoder = Model(encoded_input, decoder_layer(encoded_input))"
   ]
  },
  {
   "cell_type": "code",
   "execution_count": 5,
   "metadata": {},
   "outputs": [],
   "source": [
    "autoencoder.compile(optimizer='adadelta', loss='binary_crossentropy')"
   ]
  },
  {
   "cell_type": "code",
   "execution_count": null,
   "metadata": {},
   "outputs": [],
   "source": [
    "from keras.datasets import mnist\n",
    "import numpy as np\n",
    "(x_train, _), (x_test, _) = mnist.load_data()\n",
    "\n",
    "type(x_train)"
   ]
  },
  {
   "cell_type": "code",
   "execution_count": 6,
   "metadata": {},
   "outputs": [],
   "source": [
    "from os import listdir, path\n"
   ]
  },
  {
   "cell_type": "code",
   "execution_count": 15,
   "metadata": {},
   "outputs": [
    {
     "name": "stderr",
     "output_type": "stream",
     "text": [
      "/home/andres/thesis/thesis/lib/python3.5/site-packages/skimage/transform/_warps.py:24: UserWarning: The default multichannel argument (None) is deprecated.  Please specify either True or False explicitly.  multichannel will default to False starting with release 0.16.\n",
      "  warn('The default multichannel argument (None) is deprecated.  Please '\n",
      "/home/andres/thesis/thesis/lib/python3.5/site-packages/skimage/transform/_warps.py:105: UserWarning: The default mode, 'constant', will be changed to 'reflect' in skimage 0.15.\n",
      "  warn(\"The default mode, 'constant', will be changed to 'reflect' in \"\n"
     ]
    },
    {
     "name": "stdout",
     "output_type": "stream",
     "text": [
      "loaded shape:  (1569, 70, 53)\n"
     ]
    }
   ],
   "source": [
    "import numpy as np\n",
    "data_path = '/home/andres/thesis/samples/mspacman/atari_v1/screens/mspacman/8'\n",
    "\n",
    "data_paths = [path.join(data_path, image) for image in listdir(data_path)]\n",
    "\n",
    "data = []\n",
    "for image in data_paths:\n",
    "    data.append(load_transform(image))\n",
    "\n",
    "data = np.array(data)\n",
    "print(\"loaded shape: \", data.shape)"
   ]
  },
  {
   "cell_type": "code",
   "execution_count": 16,
   "metadata": {},
   "outputs": [],
   "source": [
    "x_train = data[0:1255]\n",
    "x_test = data[1255:]"
   ]
  },
  {
   "cell_type": "code",
   "execution_count": 17,
   "metadata": {},
   "outputs": [
    {
     "name": "stdout",
     "output_type": "stream",
     "text": [
      "(1255, 3710)\n",
      "(314, 3710)\n"
     ]
    }
   ],
   "source": [
    "x_train = x_train.reshape((len(x_train), np.prod(x_train.shape[1:])))\n",
    "x_test = x_test.reshape((len(x_test), np.prod(x_test.shape[1:])))\n",
    "print(x_train.shape)\n",
    "print(x_test.shape)"
   ]
  },
  {
   "cell_type": "code",
   "execution_count": 18,
   "metadata": {},
   "outputs": [
    {
     "name": "stdout",
     "output_type": "stream",
     "text": [
      "Train on 1255 samples, validate on 314 samples\n",
      "Epoch 1/100\n",
      "1255/1255 [==============================] - 1s 565us/step - loss: 0.6447 - val_loss: 0.5339\n",
      "Epoch 2/100\n",
      "1255/1255 [==============================] - 1s 571us/step - loss: 0.4427 - val_loss: 0.3929\n",
      "Epoch 3/100\n",
      "1255/1255 [==============================] - 1s 553us/step - loss: 0.3882 - val_loss: 0.3850\n",
      "Epoch 4/100\n",
      "1255/1255 [==============================] - 1s 559us/step - loss: 0.3845 - val_loss: 0.3833\n",
      "Epoch 5/100\n",
      "1255/1255 [==============================] - 1s 556us/step - loss: 0.3833 - val_loss: 0.3824\n",
      "Epoch 6/100\n",
      "1255/1255 [==============================] - 1s 567us/step - loss: 0.3826 - val_loss: 0.3819\n",
      "Epoch 7/100\n",
      "1255/1255 [==============================] - 1s 562us/step - loss: 0.3822 - val_loss: 0.3816\n",
      "Epoch 8/100\n",
      "1255/1255 [==============================] - 1s 562us/step - loss: 0.3820 - val_loss: 0.3814\n",
      "Epoch 9/100\n",
      "1255/1255 [==============================] - 1s 565us/step - loss: 0.3818 - val_loss: 0.3812\n",
      "Epoch 10/100\n",
      "1255/1255 [==============================] - 1s 559us/step - loss: 0.3816 - val_loss: 0.3811\n",
      "Epoch 11/100\n",
      "1255/1255 [==============================] - 1s 568us/step - loss: 0.3815 - val_loss: 0.3810\n",
      "Epoch 12/100\n",
      "1255/1255 [==============================] - 1s 575us/step - loss: 0.3814 - val_loss: 0.3809\n",
      "Epoch 13/100\n",
      "1255/1255 [==============================] - 1s 582us/step - loss: 0.3813 - val_loss: 0.3808\n",
      "Epoch 14/100\n",
      "1255/1255 [==============================] - 1s 725us/step - loss: 0.3813 - val_loss: 0.3808\n",
      "Epoch 15/100\n",
      "1255/1255 [==============================] - 1s 581us/step - loss: 0.3812 - val_loss: 0.3807\n",
      "Epoch 16/100\n",
      "1255/1255 [==============================] - 1s 564us/step - loss: 0.3812 - val_loss: 0.3807\n",
      "Epoch 17/100\n",
      "1255/1255 [==============================] - 1s 564us/step - loss: 0.3811 - val_loss: 0.3807\n",
      "Epoch 18/100\n",
      "1255/1255 [==============================] - 1s 563us/step - loss: 0.3811 - val_loss: 0.3806\n",
      "Epoch 19/100\n",
      "1255/1255 [==============================] - 1s 573us/step - loss: 0.3811 - val_loss: 0.3806\n",
      "Epoch 20/100\n",
      "1255/1255 [==============================] - 1s 566us/step - loss: 0.3811 - val_loss: 0.3806\n",
      "Epoch 21/100\n",
      "1255/1255 [==============================] - 1s 571us/step - loss: 0.3810 - val_loss: 0.3805\n",
      "Epoch 22/100\n",
      "1255/1255 [==============================] - 1s 574us/step - loss: 0.3810 - val_loss: 0.3805\n",
      "Epoch 23/100\n",
      "1255/1255 [==============================] - 1s 575us/step - loss: 0.3810 - val_loss: 0.3805\n",
      "Epoch 24/100\n",
      "1255/1255 [==============================] - 1s 574us/step - loss: 0.3810 - val_loss: 0.3805\n",
      "Epoch 25/100\n",
      "1255/1255 [==============================] - 1s 571us/step - loss: 0.3810 - val_loss: 0.3805\n",
      "Epoch 26/100\n",
      "1255/1255 [==============================] - 1s 581us/step - loss: 0.3810 - val_loss: 0.3805\n",
      "Epoch 27/100\n",
      "1255/1255 [==============================] - 1s 590us/step - loss: 0.3809 - val_loss: 0.3805\n",
      "Epoch 28/100\n",
      "1255/1255 [==============================] - 1s 719us/step - loss: 0.3809 - val_loss: 0.3805\n",
      "Epoch 29/100\n",
      "1255/1255 [==============================] - 1s 571us/step - loss: 0.3809 - val_loss: 0.3805\n",
      "Epoch 30/100\n",
      "1255/1255 [==============================] - 1s 566us/step - loss: 0.3809 - val_loss: 0.3804\n",
      "Epoch 31/100\n",
      "1255/1255 [==============================] - 1s 570us/step - loss: 0.3809 - val_loss: 0.3804\n",
      "Epoch 32/100\n",
      "1255/1255 [==============================] - 1s 576us/step - loss: 0.3809 - val_loss: 0.3804\n",
      "Epoch 33/100\n",
      "1255/1255 [==============================] - 1s 573us/step - loss: 0.3809 - val_loss: 0.3804\n",
      "Epoch 34/100\n",
      "1255/1255 [==============================] - 1s 575us/step - loss: 0.3809 - val_loss: 0.3804\n",
      "Epoch 35/100\n",
      "1255/1255 [==============================] - 1s 572us/step - loss: 0.3809 - val_loss: 0.3804\n",
      "Epoch 36/100\n",
      "1255/1255 [==============================] - 1s 581us/step - loss: 0.3809 - val_loss: 0.3804\n",
      "Epoch 37/100\n",
      "1255/1255 [==============================] - 1s 573us/step - loss: 0.3809 - val_loss: 0.3804\n",
      "Epoch 38/100\n",
      "1255/1255 [==============================] - 1s 581us/step - loss: 0.3809 - val_loss: 0.3804\n",
      "Epoch 39/100\n",
      "1255/1255 [==============================] - 1s 588us/step - loss: 0.3808 - val_loss: 0.3804\n",
      "Epoch 40/100\n",
      "1255/1255 [==============================] - 1s 577us/step - loss: 0.3808 - val_loss: 0.3804\n",
      "Epoch 41/100\n",
      "1255/1255 [==============================] - 1s 580us/step - loss: 0.3808 - val_loss: 0.3804\n",
      "Epoch 42/100\n",
      "1255/1255 [==============================] - 1s 599us/step - loss: 0.3808 - val_loss: 0.3804\n",
      "Epoch 43/100\n",
      "1255/1255 [==============================] - 1s 700us/step - loss: 0.3808 - val_loss: 0.3804\n",
      "Epoch 44/100\n",
      "1255/1255 [==============================] - 1s 610us/step - loss: 0.3808 - val_loss: 0.3804\n",
      "Epoch 45/100\n",
      "1255/1255 [==============================] - 1s 572us/step - loss: 0.3808 - val_loss: 0.3803\n",
      "Epoch 46/100\n",
      "1255/1255 [==============================] - 1s 572us/step - loss: 0.3808 - val_loss: 0.3803\n",
      "Epoch 47/100\n",
      "1255/1255 [==============================] - 1s 583us/step - loss: 0.3808 - val_loss: 0.3804\n",
      "Epoch 48/100\n",
      "1255/1255 [==============================] - 1s 569us/step - loss: 0.3808 - val_loss: 0.3803\n",
      "Epoch 49/100\n",
      "1255/1255 [==============================] - 1s 576us/step - loss: 0.3808 - val_loss: 0.3803\n",
      "Epoch 50/100\n",
      "1255/1255 [==============================] - 1s 576us/step - loss: 0.3808 - val_loss: 0.3803\n",
      "Epoch 51/100\n",
      "1255/1255 [==============================] - 1s 581us/step - loss: 0.3808 - val_loss: 0.3803\n",
      "Epoch 52/100\n",
      "1255/1255 [==============================] - 1s 586us/step - loss: 0.3808 - val_loss: 0.3803\n",
      "Epoch 53/100\n",
      "1255/1255 [==============================] - 1s 574us/step - loss: 0.3808 - val_loss: 0.3803\n",
      "Epoch 54/100\n",
      "1255/1255 [==============================] - 1s 574us/step - loss: 0.3808 - val_loss: 0.3803\n",
      "Epoch 55/100\n",
      "1255/1255 [==============================] - 1s 562us/step - loss: 0.3808 - val_loss: 0.3803\n",
      "Epoch 56/100\n",
      "1255/1255 [==============================] - 1s 572us/step - loss: 0.3808 - val_loss: 0.3803\n",
      "Epoch 57/100\n",
      "1255/1255 [==============================] - 1s 565us/step - loss: 0.3808 - val_loss: 0.3803\n",
      "Epoch 58/100\n",
      "1255/1255 [==============================] - 1s 567us/step - loss: 0.3808 - val_loss: 0.3803\n",
      "Epoch 59/100\n",
      "1255/1255 [==============================] - 1s 569us/step - loss: 0.3808 - val_loss: 0.3803\n",
      "Epoch 60/100\n",
      "1255/1255 [==============================] - 1s 567us/step - loss: 0.3808 - val_loss: 0.3803\n",
      "Epoch 61/100\n",
      "1255/1255 [==============================] - 1s 572us/step - loss: 0.3808 - val_loss: 0.3803\n",
      "Epoch 62/100\n",
      "1255/1255 [==============================] - 1s 566us/step - loss: 0.3808 - val_loss: 0.3803\n",
      "Epoch 63/100\n",
      "1255/1255 [==============================] - 1s 563us/step - loss: 0.3808 - val_loss: 0.3803\n",
      "Epoch 64/100\n",
      "1255/1255 [==============================] - 1s 564us/step - loss: 0.3808 - val_loss: 0.3803\n",
      "Epoch 65/100\n",
      "1255/1255 [==============================] - 1s 573us/step - loss: 0.3808 - val_loss: 0.3803\n",
      "Epoch 66/100\n",
      "1255/1255 [==============================] - 1s 580us/step - loss: 0.3808 - val_loss: 0.3803\n",
      "Epoch 67/100\n",
      "1255/1255 [==============================] - 1s 568us/step - loss: 0.3808 - val_loss: 0.3803\n",
      "Epoch 68/100\n",
      "1255/1255 [==============================] - 1s 571us/step - loss: 0.3808 - val_loss: 0.3803\n",
      "Epoch 69/100\n",
      "1255/1255 [==============================] - 1s 571us/step - loss: 0.3808 - val_loss: 0.3803\n",
      "Epoch 70/100\n",
      "1255/1255 [==============================] - 1s 604us/step - loss: 0.3808 - val_loss: 0.3803\n",
      "Epoch 71/100\n",
      "1255/1255 [==============================] - 1s 735us/step - loss: 0.3808 - val_loss: 0.3803\n",
      "Epoch 72/100\n",
      "1255/1255 [==============================] - 1s 606us/step - loss: 0.3808 - val_loss: 0.3803\n",
      "Epoch 73/100\n",
      "1255/1255 [==============================] - 1s 624us/step - loss: 0.3808 - val_loss: 0.3803\n",
      "Epoch 74/100\n",
      "1255/1255 [==============================] - 1s 647us/step - loss: 0.3808 - val_loss: 0.3803\n",
      "Epoch 75/100\n",
      "1255/1255 [==============================] - 1s 657us/step - loss: 0.3808 - val_loss: 0.3803\n",
      "Epoch 76/100\n",
      "1255/1255 [==============================] - 1s 607us/step - loss: 0.3808 - val_loss: 0.3803\n",
      "Epoch 77/100\n",
      "1255/1255 [==============================] - 1s 599us/step - loss: 0.3808 - val_loss: 0.3803\n"
     ]
    },
    {
     "name": "stdout",
     "output_type": "stream",
     "text": [
      "Epoch 78/100\n",
      "1255/1255 [==============================] - 1s 592us/step - loss: 0.3808 - val_loss: 0.3803\n",
      "Epoch 79/100\n",
      "1255/1255 [==============================] - 1s 621us/step - loss: 0.3808 - val_loss: 0.3803\n",
      "Epoch 80/100\n",
      "1255/1255 [==============================] - 1s 555us/step - loss: 0.3808 - val_loss: 0.3803\n",
      "Epoch 81/100\n",
      "1255/1255 [==============================] - 1s 650us/step - loss: 0.3808 - val_loss: 0.3803\n",
      "Epoch 82/100\n",
      "1255/1255 [==============================] - 1s 558us/step - loss: 0.3808 - val_loss: 0.3803\n",
      "Epoch 83/100\n",
      "1255/1255 [==============================] - 1s 578us/step - loss: 0.3807 - val_loss: 0.3803\n",
      "Epoch 84/100\n",
      "1255/1255 [==============================] - 1s 569us/step - loss: 0.3807 - val_loss: 0.3803\n",
      "Epoch 85/100\n",
      "1255/1255 [==============================] - 1s 563us/step - loss: 0.3807 - val_loss: 0.3803\n",
      "Epoch 86/100\n",
      "1255/1255 [==============================] - 1s 560us/step - loss: 0.3807 - val_loss: 0.3803\n",
      "Epoch 87/100\n",
      "1255/1255 [==============================] - 1s 608us/step - loss: 0.3807 - val_loss: 0.3803\n",
      "Epoch 88/100\n",
      "1255/1255 [==============================] - 1s 671us/step - loss: 0.3807 - val_loss: 0.3803\n",
      "Epoch 89/100\n",
      "1255/1255 [==============================] - 1s 602us/step - loss: 0.3807 - val_loss: 0.3803\n",
      "Epoch 90/100\n",
      "1255/1255 [==============================] - 1s 673us/step - loss: 0.3807 - val_loss: 0.3803\n",
      "Epoch 91/100\n",
      "1255/1255 [==============================] - 1s 648us/step - loss: 0.3807 - val_loss: 0.3803\n",
      "Epoch 92/100\n",
      "1255/1255 [==============================] - 1s 651us/step - loss: 0.3807 - val_loss: 0.3803\n",
      "Epoch 93/100\n",
      "1255/1255 [==============================] - 1s 649us/step - loss: 0.3807 - val_loss: 0.3803\n",
      "Epoch 94/100\n",
      "1255/1255 [==============================] - 1s 654us/step - loss: 0.3807 - val_loss: 0.3803\n",
      "Epoch 95/100\n",
      "1255/1255 [==============================] - 1s 644us/step - loss: 0.3807 - val_loss: 0.3803\n",
      "Epoch 96/100\n",
      "1255/1255 [==============================] - 1s 639us/step - loss: 0.3807 - val_loss: 0.3803\n",
      "Epoch 97/100\n",
      "1255/1255 [==============================] - 1s 676us/step - loss: 0.3807 - val_loss: 0.3803\n",
      "Epoch 98/100\n",
      "1255/1255 [==============================] - 1s 644us/step - loss: 0.3807 - val_loss: 0.3803\n",
      "Epoch 99/100\n",
      "1255/1255 [==============================] - 1s 652us/step - loss: 0.3807 - val_loss: 0.3803\n",
      "Epoch 100/100\n",
      "1255/1255 [==============================] - 1s 655us/step - loss: 0.3807 - val_loss: 0.3803\n"
     ]
    },
    {
     "data": {
      "text/plain": [
       "<keras.callbacks.History at 0x7f4cf9fb6978>"
      ]
     },
     "execution_count": 18,
     "metadata": {},
     "output_type": "execute_result"
    }
   ],
   "source": [
    "autoencoder.fit(x_train, x_train,\n",
    "                epochs=100,\n",
    "                batch_size=64,\n",
    "                shuffle=True,\n",
    "                validation_data=(x_test, x_test))"
   ]
  },
  {
   "cell_type": "code",
   "execution_count": 19,
   "metadata": {},
   "outputs": [
    {
     "data": {
      "text/plain": [
       "(1569, 70, 53)"
      ]
     },
     "execution_count": 19,
     "metadata": {},
     "output_type": "execute_result"
    }
   ],
   "source": [
    "encoded_imgs = encoder.predict(x_test)\n",
    "decoded_imgs = decoder.predict(encoded_imgs)\n",
    "data.shape"
   ]
  },
  {
   "cell_type": "code",
   "execution_count": 20,
   "metadata": {},
   "outputs": [
    {
     "data": {
      "image/png": "[encoded data removed]",
      "text/plain": [
       "<Figure size 1440x288 with 20 Axes>"
      ]
     },
     "metadata": {},
     "output_type": "display_data"
    }
   ],
   "source": [
    "import matplotlib.pyplot as plt\n",
    "\n",
    "n = 10  # how many digits we will display\n",
    "plt.figure(figsize=(20, 4))\n",
    "for i in range(n):\n",
    "    # display original\n",
    "    ax = plt.subplot(2, n, i + 1)\n",
    "    plt.imshow(x_test[i].reshape(70, 53))\n",
    "    plt.gray()\n",
    "    ax.get_xaxis().set_visible(False)\n",
    "    ax.get_yaxis().set_visible(False)\n",
    "\n",
    "    # display reconstruction\n",
    "    ax = plt.subplot(2, n, i + 1 + n)\n",
    "    plt.imshow(decoded_imgs[i].reshape(70, 53))\n",
    "    plt.gray()\n",
    "    ax.get_xaxis().set_visible(False)\n",
    "    ax.get_yaxis().set_visible(False)\n",
    "plt.show()"
   ]
  },
  {
   "cell_type": "code",
   "execution_count": null,
   "metadata": {},
   "outputs": [],
   "source": [
    "encoded_imgs[1]"
   ]
  },
  {
   "cell_type": "code",
   "execution_count": null,
   "metadata": {},
   "outputs": [],
   "source": [
    "encoded_imgs[1]"
   ]
  },
  {
   "cell_type": "code",
   "execution_count": null,
   "metadata": {},
   "outputs": [],
   "source": [
    "data_paths"
   ]
  },
  {
   "cell_type": "code",
   "execution_count": null,
   "metadata": {},
   "outputs": [],
   "source": []
  }
 ],
 "metadata": {
  "kernelspec": {
   "display_name": "thesis",
   "language": "python",
   "name": "thesis"
  },
  "language_info": {
   "codemirror_mode": {
    "name": "ipython",
    "version": 3
   },
   "file_extension": ".py",
   "mimetype": "text/x-python",
   "name": "python",
   "nbconvert_exporter": "python",
   "pygments_lexer": "ipython3",
   "version": "3.5.2"
  }
 },
 "nbformat": 4,
 "nbformat_minor": 2
}
