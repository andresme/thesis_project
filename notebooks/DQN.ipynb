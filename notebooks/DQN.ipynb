{
 "cells": [
  {
   "cell_type": "code",
   "execution_count": null,
   "metadata": {
    "scrolled": true
   },
   "outputs": [
    {
     "name": "stderr",
     "output_type": "stream",
     "text": [
      "/home/andres/thesis_project/keras2/lib/python3.6/site-packages/skimage/transform/_warps.py:24: UserWarning: The default multichannel argument (None) is deprecated.  Please specify either True or False explicitly.  multichannel will default to False starting with release 0.16.\n",
      "  warn('The default multichannel argument (None) is deprecated.  Please '\n",
      "/home/andres/thesis_project/keras2/lib/python3.6/site-packages/skimage/transform/_warps.py:105: UserWarning: The default mode, 'constant', will be changed to 'reflect' in skimage 0.15.\n",
      "  warn(\"The default mode, 'constant', will be changed to 'reflect' in \"\n"
     ]
    },
    {
     "name": "stdout",
     "output_type": "stream",
     "text": [
      "episode: 0/1000, score: 600, reward: 55.0, e: 0.95 \n",
      "episode: 1/1000, score: 372, reward: 15.0, e: 0.92 \n",
      "episode: 2/1000, score: 591, reward: 295.0, e: 0.87 \n",
      "episode: 3/1000, score: 521, reward: 130.0, e: 0.82 \n",
      "episode: 4/1000, score: 657, reward: 130.0, e: 0.77 \n",
      "episode: 5/1000, score: 531, reward: 65.0, e: 0.73 \n",
      "episode: 6/1000, score: 650, reward: 105.0, e: 0.68 \n",
      "episode: 7/1000, score: 761, reward: 270.0, e: 0.63 \n",
      "episode: 8/1000, score: 424, reward: 120.0, e: 0.61 \n",
      "episode: 9/1000, score: 383, reward: 75.0, e: 0.58 \n",
      "episode: 10/1000, score: 490, reward: 80.0, e: 0.56 \n",
      "episode: 11/1000, score: 881, reward: 235.0, e: 0.51 \n",
      "episode: 12/1000, score: 1048, reward: 550.0, e: 0.46 \n",
      "episode: 13/1000, score: 399, reward: 55.0, e: 0.44 \n",
      "episode: 14/1000, score: 682, reward: 140.0, e: 0.41 \n",
      "episode: 15/1000, score: 425, reward: 105.0, e: 0.4 \n",
      "episode: 16/1000, score: 429, reward: 105.0, e: 0.38 \n",
      "episode: 17/1000, score: 414, reward: 75.0, e: 0.36 \n",
      "episode: 18/1000, score: 382, reward: 75.0, e: 0.35 \n",
      "episode: 19/1000, score: 562, reward: 105.0, e: 0.33 \n",
      "episode: 20/1000, score: 763, reward: 160.0, e: 0.31 \n",
      "episode: 21/1000, score: 494, reward: 120.0, e: 0.29 \n",
      "episode: 22/1000, score: 666, reward: 145.0, e: 0.27 \n",
      "episode: 23/1000, score: 880, reward: 240.0, e: 0.25 \n",
      "episode: 24/1000, score: 508, reward: 110.0, e: 0.24 \n",
      "episode: 25/1000, score: 423, reward: 110.0, e: 0.23 \n",
      "episode: 26/1000, score: 617, reward: 115.0, e: 0.21 \n",
      "episode: 27/1000, score: 444, reward: 105.0, e: 0.2 \n",
      "episode: 28/1000, score: 909, reward: 210.0, e: 0.19 \n",
      "episode: 29/1000, score: 715, reward: 210.0, e: 0.17 \n",
      "episode: 30/1000, score: 826, reward: 150.0, e: 0.16 \n",
      "episode: 31/1000, score: 407, reward: 55.0, e: 0.15 \n",
      "episode: 32/1000, score: 784, reward: 155.0, e: 0.14 \n",
      "episode: 33/1000, score: 671, reward: 120.0, e: 0.13 \n",
      "episode: 34/1000, score: 864, reward: 180.0, e: 0.12 \n",
      "episode: 35/1000, score: 461, reward: 75.0, e: 0.12 \n",
      "episode: 36/1000, score: 397, reward: 50.0, e: 0.11 \n",
      "episode: 37/1000, score: 1403, reward: 410.0, e: 0.1 \n",
      "episode: 38/1000, score: 643, reward: 110.0, e: 0.1 \n",
      "episode: 39/1000, score: 696, reward: 305.0, e: 0.1 \n",
      "episode: 40/1000, score: 443, reward: 30.0, e: 0.1 \n",
      "episode: 41/1000, score: 912, reward: 335.0, e: 0.1 \n",
      "episode: 42/1000, score: 798, reward: 410.0, e: 0.1 \n",
      "episode: 43/1000, score: 854, reward: 195.0, e: 0.1 \n",
      "episode: 44/1000, score: 839, reward: 355.0, e: 0.1 \n",
      "episode: 45/1000, score: 682, reward: 135.0, e: 0.1 \n",
      "episode: 46/1000, score: 391, reward: 50.0, e: 0.1 \n",
      "episode: 47/1000, score: 876, reward: 210.0, e: 0.1 \n",
      "episode: 48/1000, score: 787, reward: 180.0, e: 0.1 \n",
      "episode: 49/1000, score: 1066, reward: 255.0, e: 0.1 \n",
      "episode: 50/1000, score: 393, reward: 75.0, e: 0.1 \n",
      "episode: 51/1000, score: 520, reward: 150.0, e: 0.1 \n",
      "episode: 52/1000, score: 528, reward: 105.0, e: 0.1 \n",
      "episode: 53/1000, score: 764, reward: 120.0, e: 0.1 \n",
      "episode: 54/1000, score: 784, reward: 135.0, e: 0.1 \n",
      "episode: 55/1000, score: 387, reward: 15.0, e: 0.1 \n",
      "episode: 56/1000, score: 744, reward: 155.0, e: 0.1 \n",
      "episode: 57/1000, score: 777, reward: 135.0, e: 0.1 \n",
      "episode: 58/1000, score: 803, reward: 210.0, e: 0.1 \n",
      "episode: 59/1000, score: 745, reward: 135.0, e: 0.1 \n",
      "episode: 60/1000, score: 864, reward: 160.0, e: 0.1 \n",
      "episode: 61/1000, score: 631, reward: 105.0, e: 0.1 \n",
      "episode: 62/1000, score: 566, reward: 90.0, e: 0.1 \n",
      "episode: 63/1000, score: 632, reward: 110.0, e: 0.1 \n",
      "episode: 64/1000, score: 503, reward: 75.0, e: 0.1 \n",
      "episode: 65/1000, score: 558, reward: 55.0, e: 0.1 \n",
      "episode: 66/1000, score: 380, reward: 30.0, e: 0.1 \n",
      "episode: 67/1000, score: 503, reward: 50.0, e: 0.1 \n",
      "episode: 68/1000, score: 600, reward: 70.0, e: 0.1 \n",
      "episode: 69/1000, score: 820, reward: 135.0, e: 0.1 \n",
      "episode: 70/1000, score: 497, reward: 80.0, e: 0.1 \n",
      "episode: 71/1000, score: 804, reward: 185.0, e: 0.1 \n",
      "episode: 72/1000, score: 816, reward: 185.0, e: 0.1 \n",
      "episode: 73/1000, score: 641, reward: 105.0, e: 0.1 \n",
      "episode: 74/1000, score: 545, reward: 105.0, e: 0.1 \n",
      "episode: 75/1000, score: 944, reward: 160.0, e: 0.1 \n",
      "episode: 76/1000, score: 664, reward: 120.0, e: 0.1 \n",
      "episode: 77/1000, score: 494, reward: 90.0, e: 0.1 \n",
      "episode: 78/1000, score: 808, reward: 180.0, e: 0.1 \n",
      "episode: 79/1000, score: 556, reward: 140.0, e: 0.1 \n",
      "episode: 80/1000, score: 796, reward: 130.0, e: 0.1 \n",
      "episode: 81/1000, score: 899, reward: 160.0, e: 0.1 \n",
      "episode: 82/1000, score: 857, reward: 210.0, e: 0.1 \n",
      "episode: 83/1000, score: 845, reward: 170.0, e: 0.1 \n",
      "episode: 84/1000, score: 604, reward: 45.0, e: 0.1 \n",
      "episode: 85/1000, score: 657, reward: 155.0, e: 0.1 \n",
      "episode: 86/1000, score: 801, reward: 155.0, e: 0.1 \n",
      "episode: 87/1000, score: 604, reward: 145.0, e: 0.1 \n",
      "episode: 88/1000, score: 654, reward: 150.0, e: 0.1 \n",
      "episode: 89/1000, score: 914, reward: 180.0, e: 0.1 \n",
      "episode: 90/1000, score: 730, reward: 65.0, e: 0.1 \n",
      "episode: 91/1000, score: 946, reward: 410.0, e: 0.1 \n",
      "episode: 92/1000, score: 800, reward: 135.0, e: 0.1 \n",
      "episode: 93/1000, score: 790, reward: 180.0, e: 0.1 \n"
     ]
    }
   ],
   "source": [
    "import random\n",
    "import gym\n",
    "import numpy as np\n",
    "from collections import deque\n",
    "from keras.models import Sequential\n",
    "from keras.layers import Dense\n",
    "from keras.optimizers import Adam\n",
    "\n",
    "EPISODES = 1000\n",
    "\n",
    "class DQNAgent:\n",
    "    def __init__(self, state_size, action_size):\n",
    "        self.state_size = state_size\n",
    "        self.action_size = action_size\n",
    "        self.memory = deque(maxlen=100000)\n",
    "        self.gamma = 0.95    # discount rate\n",
    "        self.epsilon = 1.0 # exploration rate\n",
    "        self.epsilon2 = 0.95\n",
    "        self.epsilon_min = 0.1\n",
    "        self.epsilon_decay = 0.9999\n",
    "        self.learning_rate = 0.05\n",
    "        self.model = self._build_model()\n",
    "\n",
    "    def _build_model(self):\n",
    "        # Neural Net for Deep-Q learning Model\n",
    "        model = Sequential()\n",
    "        model.add(Dense(85, input_dim=self.state_size, activation='relu'))\n",
    "        model.add(Dense(45, activation='relu'))\n",
    "        model.add(Dense(25, activation='relu'))\n",
    "        model.add(Dense(10, activation='relu'))\n",
    "        model.add(Dense(self.action_size, activation='linear'))\n",
    "        model.compile(loss='mse',\n",
    "                      optimizer=Adam(lr=self.learning_rate))\n",
    "        return model\n",
    "\n",
    "    def remember(self, state, action, reward, next_state, done):\n",
    "        self.memory.append((state, action, reward, next_state, done))\n",
    "\n",
    "    def act(self, state):\n",
    "        if np.random.rand() <= self.epsilon:\n",
    "            if np.random.rand() <= self.epsilon2:\n",
    "                return get_action(state)\n",
    "            else:\n",
    "                return random.randrange(self.action_size) \n",
    "        #print( state.shape)\n",
    "        act_values = self.model.predict(np.expand_dims(state, axis=0))\n",
    "        return np.argmax(act_values[0])  # returns action\n",
    "\n",
    "    def replay(self, batch_size):\n",
    "        minibatch = random.sample(self.memory, batch_size)\n",
    "        for state, action, reward, next_state, done in minibatch:\n",
    "            target = reward\n",
    "            if not done:\n",
    "                target = (reward + self.gamma *\n",
    "                          np.amax(self.model.predict(np.expand_dims(next_state, axis=0))[0]))\n",
    "            target_f = self.model.predict(np.expand_dims(state, axis=0))\n",
    "            target_f[0][action] = target\n",
    "            self.model.fit(np.expand_dims(state, axis=0), target_f, epochs=1, verbose=0)\n",
    "        if self.epsilon > self.epsilon_min:\n",
    "            self.epsilon *= self.epsilon_decay\n",
    "\n",
    "    def load(self, name):\n",
    "        self.model.load_weights(name)\n",
    "\n",
    "    def save(self, name):\n",
    "        self.model.save_weights(name)\n",
    "\n",
    "\n",
    "env = gym.make('SpaceInvaders-v4')\n",
    "state_size = 3021\n",
    "action_size = env.action_space.n\n",
    "agent = DQNAgent(state_size, action_size)\n",
    "# agent.load(\"./save/cartpole-dqn.h5\")\n",
    "done = False\n",
    "batch_size = 128\n",
    "\n",
    "for e in range(EPISODES):\n",
    "    state = env.reset()\n",
    "    actual_reward = 0\n",
    "    state = load_transform(state)\n",
    "    for time in range(3000):\n",
    "        #env.render()\n",
    "        action = agent.act(state)\n",
    "        next_state, reward, done, _ = env.step(action)\n",
    "        actual_reward += reward\n",
    "        reward = reward if not done else -10\n",
    "        next_state = load_transform(next_state)\n",
    "        agent.remember(state, action, reward, next_state, done)\n",
    "        state = next_state\n",
    "        if done:\n",
    "            break\n",
    "        if len(agent.memory) > batch_size:\n",
    "            agent.replay(batch_size)\n",
    "    print(\"episode: {}/{}, score: {}, reward: {}, e: {:.2} \\r\"\n",
    "          .format(e, EPISODES, time, actual_reward, agent.epsilon))\n"
   ]
  },
  {
   "cell_type": "code",
   "execution_count": null,
   "metadata": {
    "collapsed": true
   },
   "outputs": [],
   "source": []
  },
  {
   "cell_type": "markdown",
   "metadata": {
    "collapsed": true
   },
   "source": []
  },
  {
   "cell_type": "code",
   "execution_count": 5,
   "metadata": {
    "collapsed": true
   },
   "outputs": [],
   "source": [
    "env = gym.make('Cart-v4')"
   ]
  },
  {
   "cell_type": "code",
   "execution_count": 1,
   "metadata": {
    "collapsed": true
   },
   "outputs": [],
   "source": [
    "import gym\n",
    "env = gym.make('SpaceInvaders-v4')"
   ]
  },
  {
   "cell_type": "code",
   "execution_count": 12,
   "metadata": {},
   "outputs": [
    {
     "data": {
      "text/plain": [
       "['NOOP', 'FIRE', 'RIGHT', 'LEFT', 'RIGHTFIRE', 'LEFTFIRE']"
      ]
     },
     "execution_count": 12,
     "metadata": {},
     "output_type": "execute_result"
    }
   ],
   "source": [
    "env.unwrapped.get_action_meanings()"
   ]
  },
  {
   "cell_type": "code",
   "execution_count": 3,
   "metadata": {},
   "outputs": [
    {
     "name": "stderr",
     "output_type": "stream",
     "text": [
      "Using TensorFlow backend.\n",
      "/home/andres/thesis_project/keras2/lib/python3.6/site-packages/keras/engine/saving.py:269: UserWarning: No training configuration found in save file: the model was *not* compiled. Compile it manually.\n",
      "  warnings.warn('No training configuration found in save file: '\n"
     ]
    }
   ],
   "source": [
    "from keras.models import load_model\n",
    "model = load_model('/media/andres/Baymax/predictor.h5')\n",
    "encoder = load_model('/media/andres/Baymax/encoder100.h5')"
   ]
  },
  {
   "cell_type": "code",
   "execution_count": 5,
   "metadata": {},
   "outputs": [
    {
     "ename": "NameError",
     "evalue": "name 'DQNAgent' is not defined",
     "output_type": "error",
     "traceback": [
      "\u001b[0;31m---------------------------------------------------------------------------\u001b[0m",
      "\u001b[0;31mNameError\u001b[0m                                 Traceback (most recent call last)",
      "\u001b[0;32m<ipython-input-5-fe374c089d5e>\u001b[0m in \u001b[0;36m<module>\u001b[0;34m()\u001b[0m\n\u001b[1;32m      2\u001b[0m \u001b[0mstate_size\u001b[0m \u001b[0;34m=\u001b[0m \u001b[0menv\u001b[0m\u001b[0;34m.\u001b[0m\u001b[0mobservation_space\u001b[0m\u001b[0;34m.\u001b[0m\u001b[0mshape\u001b[0m\u001b[0;34m[\u001b[0m\u001b[0;36m0\u001b[0m\u001b[0;34m]\u001b[0m \u001b[0;31m#377\u001b[0m\u001b[0;34m\u001b[0m\u001b[0m\n\u001b[1;32m      3\u001b[0m \u001b[0maction_size\u001b[0m \u001b[0;34m=\u001b[0m \u001b[0menv\u001b[0m\u001b[0;34m.\u001b[0m\u001b[0maction_space\u001b[0m\u001b[0;34m.\u001b[0m\u001b[0mn\u001b[0m\u001b[0;34m\u001b[0m\u001b[0m\n\u001b[0;32m----> 4\u001b[0;31m \u001b[0magent\u001b[0m \u001b[0;34m=\u001b[0m \u001b[0mDQNAgent\u001b[0m\u001b[0;34m(\u001b[0m\u001b[0mstate_size\u001b[0m\u001b[0;34m,\u001b[0m \u001b[0maction_size\u001b[0m\u001b[0;34m)\u001b[0m\u001b[0;34m\u001b[0m\u001b[0m\n\u001b[0m",
      "\u001b[0;31mNameError\u001b[0m: name 'DQNAgent' is not defined"
     ]
    }
   ],
   "source": [
    "env = gym.make('SpaceInvaders-v4')\n",
    "state_size = env.observation_space.shape[0] #377\n",
    "action_size = env.action_space.n\n",
    "agent = DQNAgent(state_size, action_size)"
   ]
  },
  {
   "cell_type": "code",
   "execution_count": 13,
   "metadata": {
    "collapsed": true
   },
   "outputs": [],
   "source": [
    "state = env.reset()"
   ]
  },
  {
   "cell_type": "code",
   "execution_count": 1,
   "metadata": {
    "collapsed": true
   },
   "outputs": [],
   "source": [
    "import matplotlib.pyplot as plt\n",
    "\n",
    "from skimage import io, color\n",
    "from skimage.transform import rescale\n",
    "from skimage.draw import rectangle\n",
    "from skimage.measure import label, regionprops\n",
    "from skimage.filters import threshold_otsu\n",
    "from skimage.morphology import closing, square\n",
    "import h5py\n",
    "\n",
    "def load_transform(img):\n",
    "    img = img[25:195,0:160]\n",
    "    img_gray = color.rgb2gray(img)\n",
    "    \n",
    "    thresh = threshold_otsu(img_gray)\n",
    "    bw = closing(img_gray > thresh, square(3))\n",
    "    cleared = bw\n",
    "    label_image = label(cleared)\n",
    "    for region in regionprops(label_image):\n",
    "        if region.area >= 10:\n",
    "            minr, minc, maxr, maxc = region.bbox\n",
    "            rr, cc = rectangle(start=(minr, minc), end=(maxr, maxc), shape=cleared.shape)\n",
    "            cleared[rr, cc] = 1\n",
    "\n",
    "    image_rescaled = rescale(cleared, 1.0 / 3.0, anti_aliasing=False)\n",
    "    \n",
    "    return image_rescaled.reshape(3021)"
   ]
  },
  {
   "cell_type": "code",
   "execution_count": 33,
   "metadata": {},
   "outputs": [
    {
     "name": "stderr",
     "output_type": "stream",
     "text": [
      "/home/andres/thesis/keras/lib/python3.6/site-packages/skimage/transform/_warps.py:24: UserWarning: The default multichannel argument (None) is deprecated.  Please specify either True or False explicitly.  multichannel will default to False starting with release 0.16.\n",
      "  warn('The default multichannel argument (None) is deprecated.  Please '\n",
      "/home/andres/thesis/keras/lib/python3.6/site-packages/skimage/transform/_warps.py:105: UserWarning: The default mode, 'constant', will be changed to 'reflect' in skimage 0.15.\n",
      "  warn(\"The default mode, 'constant', will be changed to 'reflect' in \"\n"
     ]
    }
   ],
   "source": [
    "import numpy as np\n",
    "\n",
    "state_transformed = load_transform(state)\n",
    "encoded = encoder.predict(np.expand_dims(state_transformed, axis=0))\n",
    "prediction = model.predict(encoded)"
   ]
  },
  {
   "cell_type": "code",
   "execution_count": 36,
   "metadata": {},
   "outputs": [
    {
     "data": {
      "text/plain": [
       "1"
      ]
     },
     "execution_count": 36,
     "metadata": {},
     "output_type": "execute_result"
    }
   ],
   "source": [
    "prediction.argmax()"
   ]
  },
  {
   "cell_type": "code",
   "execution_count": 28,
   "metadata": {},
   "outputs": [
    {
     "data": {
      "text/plain": [
       "(3021,)"
      ]
     },
     "execution_count": 28,
     "metadata": {},
     "output_type": "execute_result"
    }
   ],
   "source": [
    "state_transformed.shape"
   ]
  },
  {
   "cell_type": "code",
   "execution_count": 1,
   "metadata": {},
   "outputs": [
    {
     "name": "stderr",
     "output_type": "stream",
     "text": [
      "Using TensorFlow backend.\n",
      "/home/andres/thesis_project/keras2/lib/python3.6/site-packages/keras/engine/saving.py:269: UserWarning: No training configuration found in save file: the model was *not* compiled. Compile it manually.\n",
      "  warnings.warn('No training configuration found in save file: '\n"
     ]
    }
   ],
   "source": [
    "actions = ['NOOP', 'FIRE', 'UP', 'RIGHT', 'LEFT', 'DOWN', 'UPRIGHT', 'UPLEFT', 'DOWNRIGHT', 'DOWNLEFT', 'UPFIRE', 'RIGHTFIRE', 'LEFTFIRE', 'DOWNFIRE', 'UPRIGHTFIRE', 'UPLEFTFIRE', 'DOWNRIGHTFIRE', 'DOWNLEFTFIRE']\n",
    "env_actions  = ['NOOP', 'FIRE', 'RIGHT', 'LEFT', 'RIGHTFIRE', 'LEFTFIRE']\n",
    "\n",
    "import matplotlib.pyplot as plt\n",
    "\n",
    "from skimage import io, color\n",
    "from skimage.transform import rescale\n",
    "from skimage.draw import rectangle\n",
    "from skimage.measure import label, regionprops\n",
    "from skimage.filters import threshold_otsu\n",
    "from skimage.morphology import closing, square\n",
    "from keras.models import load_model\n",
    "import h5py\n",
    "\n",
    "model = load_model('/media/andres/Baymax/predictor.h5')\n",
    "encoder = load_model('/media/andres/Baymax/encoder100.h5')\n",
    "\n",
    "def load_transform(img):\n",
    "    img = img[25:195,0:160]\n",
    "    img_gray = color.rgb2gray(img)\n",
    "    \n",
    "    thresh = threshold_otsu(img_gray)\n",
    "    bw = closing(img_gray > thresh, square(3))\n",
    "    cleared = bw\n",
    "    label_image = label(cleared)\n",
    "    for region in regionprops(label_image):\n",
    "        if region.area >= 10:\n",
    "            minr, minc, maxr, maxc = region.bbox\n",
    "            rr, cc = rectangle(start=(minr, minc), end=(maxr, maxc), shape=cleared.shape)\n",
    "            cleared[rr, cc] = 1\n",
    "\n",
    "    image_rescaled = rescale(cleared, 1.0 / 3.0, anti_aliasing=False)\n",
    "    \n",
    "    return image_rescaled.reshape(3021)\n",
    "\n",
    "def get_action(state):\n",
    "    encoded = encoder.predict(np.expand_dims(state, axis=0))\n",
    "    prediction = model.predict(encoded)[0]\n",
    "    prediction_index = prediction.argmax()\n",
    "    #print(prediction_index)\n",
    "    try: \n",
    "        return env_actions.index(actions[prediction_index])\n",
    "    except:\n",
    "        return 0\n",
    "    "
   ]
  },
  {
   "cell_type": "code",
   "execution_count": 3,
   "metadata": {},
   "outputs": [
    {
     "data": {
      "text/plain": [
       "1"
      ]
     },
     "execution_count": 3,
     "metadata": {},
     "output_type": "execute_result"
    }
   ],
   "source": [
    "env_actions.index('FIRE')"
   ]
  },
  {
   "cell_type": "code",
   "execution_count": null,
   "metadata": {
    "collapsed": true
   },
   "outputs": [],
   "source": []
  }
 ],
 "metadata": {
  "kernelspec": {
   "display_name": "Python 3",
   "language": "python",
   "name": "python3"
  },
  "language_info": {
   "codemirror_mode": {
    "name": "ipython",
    "version": 3
   },
   "file_extension": ".py",
   "mimetype": "text/x-python",
   "name": "python",
   "nbconvert_exporter": "python",
   "pygments_lexer": "ipython3",
   "version": "3.7.0"
  }
 },
 "nbformat": 4,
 "nbformat_minor": 2
}
